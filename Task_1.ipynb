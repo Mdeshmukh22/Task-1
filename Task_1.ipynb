{
  "nbformat": 4,
  "nbformat_minor": 0,
  "metadata": {
    "colab": {
      "name": "Task 1.ipynb",
      "provenance": [],
      "collapsed_sections": []
    },
    "kernelspec": {
      "name": "python3",
      "display_name": "Python 3"
    }
  },
  "cells": [
    {
      "cell_type": "markdown",
      "metadata": {
        "id": "r53Rx8VjoRpe"
      },
      "source": [
        "Task 1- Predict the percentage of an student based on the no. of study hours\r\n",
        "\r\n",
        "Oragnization - The Sparks Foundation"
      ]
    },
    {
      "cell_type": "code",
      "metadata": {
        "id": "Q4tql2NKj8L8"
      },
      "source": [
        "import pandas as pd\r\n",
        "import matplotlib.pyplot as plt\r\n",
        "%matplotlib inline"
      ],
      "execution_count": 1,
      "outputs": []
    },
    {
      "cell_type": "markdown",
      "metadata": {
        "id": "JbLrqb_TkLSW"
      },
      "source": [
        "\r\n",
        "Reading csv file and converting into dataframe"
      ]
    },
    {
      "cell_type": "code",
      "metadata": {
        "colab": {
          "base_uri": "https://localhost:8080/",
          "height": 204
        },
        "id": "jgYQiG1CkI_R",
        "outputId": "32ea20e1-e146-4f08-8de8-15adacab8145"
      },
      "source": [
        "df = pd.read_csv('http://bit.ly/w-data')\r\n",
        "df.head()\r\n",
        "#printing top 5 rows of dataframe"
      ],
      "execution_count": 2,
      "outputs": [
        {
          "output_type": "execute_result",
          "data": {
            "text/html": [
              "<div>\n",
              "<style scoped>\n",
              "    .dataframe tbody tr th:only-of-type {\n",
              "        vertical-align: middle;\n",
              "    }\n",
              "\n",
              "    .dataframe tbody tr th {\n",
              "        vertical-align: top;\n",
              "    }\n",
              "\n",
              "    .dataframe thead th {\n",
              "        text-align: right;\n",
              "    }\n",
              "</style>\n",
              "<table border=\"1\" class=\"dataframe\">\n",
              "  <thead>\n",
              "    <tr style=\"text-align: right;\">\n",
              "      <th></th>\n",
              "      <th>Hours</th>\n",
              "      <th>Scores</th>\n",
              "    </tr>\n",
              "  </thead>\n",
              "  <tbody>\n",
              "    <tr>\n",
              "      <th>0</th>\n",
              "      <td>2.5</td>\n",
              "      <td>21</td>\n",
              "    </tr>\n",
              "    <tr>\n",
              "      <th>1</th>\n",
              "      <td>5.1</td>\n",
              "      <td>47</td>\n",
              "    </tr>\n",
              "    <tr>\n",
              "      <th>2</th>\n",
              "      <td>3.2</td>\n",
              "      <td>27</td>\n",
              "    </tr>\n",
              "    <tr>\n",
              "      <th>3</th>\n",
              "      <td>8.5</td>\n",
              "      <td>75</td>\n",
              "    </tr>\n",
              "    <tr>\n",
              "      <th>4</th>\n",
              "      <td>3.5</td>\n",
              "      <td>30</td>\n",
              "    </tr>\n",
              "  </tbody>\n",
              "</table>\n",
              "</div>"
            ],
            "text/plain": [
              "   Hours  Scores\n",
              "0    2.5      21\n",
              "1    5.1      47\n",
              "2    3.2      27\n",
              "3    8.5      75\n",
              "4    3.5      30"
            ]
          },
          "metadata": {
            "tags": []
          },
          "execution_count": 2
        }
      ]
    },
    {
      "cell_type": "markdown",
      "metadata": {
        "id": "qJC5nomjkX7I"
      },
      "source": [
        "Step 2: Visualising Dataset\r\n",
        "\r\n",
        "Plotting the data points using a scatter plot\r\n"
      ]
    },
    {
      "cell_type": "code",
      "metadata": {
        "colab": {
          "base_uri": "https://localhost:8080/",
          "height": 295
        },
        "id": "mg8fidp-khef",
        "outputId": "d2a8d802-dec9-4acf-d14f-f8d2b8156aca"
      },
      "source": [
        "plt.plot(df['Hours'],df['Scores'],'o')\r\n",
        "plt.xlabel('No. of Hours')\r\n",
        "plt.ylabel('Percentage Scored')\r\n",
        "plt.title('No. of Hours studied vs Percentage Scored')\r\n",
        "plt.show()"
      ],
      "execution_count": 3,
      "outputs": [
        {
          "output_type": "display_data",
          "data": {
            "image/png": "[encoded data removed]",
            "text/plain": [
              "<Figure size 432x288 with 1 Axes>"
            ]
          },
          "metadata": {
            "tags": [],
            "needs_background": "light"
          }
        }
      ]
    },
    {
      "cell_type": "markdown",
      "metadata": {
        "id": "gO8d6Bbqk4sz"
      },
      "source": [
        "Depicting the correlation between the variables in dataframe"
      ]
    },
    {
      "cell_type": "code",
      "metadata": {
        "colab": {
          "base_uri": "https://localhost:8080/",
          "height": 111
        },
        "id": "MggU3an7k6sO",
        "outputId": "a062a873-5b93-4b27-f2f8-c387c95dcbac"
      },
      "source": [
        "\r\n",
        "df.corr()"
      ],
      "execution_count": 4,
      "outputs": [
        {
          "output_type": "execute_result",
          "data": {
            "text/html": [
              "<div>\n",
              "<style scoped>\n",
              "    .dataframe tbody tr th:only-of-type {\n",
              "        vertical-align: middle;\n",
              "    }\n",
              "\n",
              "    .dataframe tbody tr th {\n",
              "        vertical-align: top;\n",
              "    }\n",
              "\n",
              "    .dataframe thead th {\n",
              "        text-align: right;\n",
              "    }\n",
              "</style>\n",
              "<table border=\"1\" class=\"dataframe\">\n",
              "  <thead>\n",
              "    <tr style=\"text-align: right;\">\n",
              "      <th></th>\n",
              "      <th>Hours</th>\n",
              "      <th>Scores</th>\n",
              "    </tr>\n",
              "  </thead>\n",
              "  <tbody>\n",
              "    <tr>\n",
              "      <th>Hours</th>\n",
              "      <td>1.000000</td>\n",
              "      <td>0.976191</td>\n",
              "    </tr>\n",
              "    <tr>\n",
              "      <th>Scores</th>\n",
              "      <td>0.976191</td>\n",
              "      <td>1.000000</td>\n",
              "    </tr>\n",
              "  </tbody>\n",
              "</table>\n",
              "</div>"
            ],
            "text/plain": [
              "           Hours    Scores\n",
              "Hours   1.000000  0.976191\n",
              "Scores  0.976191  1.000000"
            ]
          },
          "metadata": {
            "tags": []
          },
          "execution_count": 4
        }
      ]
    },
    {
      "cell_type": "markdown",
      "metadata": {
        "id": "mcxbW0LqlIhs"
      },
      "source": [
        "To see Linear Relationship Between the number and hours and percentage score for that Linear Regression algorithm is used."
      ]
    },
    {
      "cell_type": "markdown",
      "metadata": {
        "id": "E-TYENl8lir1"
      },
      "source": [
        "Splitting dataframe into the independent and dependent variable"
      ]
    },
    {
      "cell_type": "code",
      "metadata": {
        "id": "Oe21ecQqljja"
      },
      "source": [
        "x = df[['Hours']] #2D array for the independent variable\r\n",
        "y = df['Scores']  #1D array for dependent variable"
      ],
      "execution_count": 5,
      "outputs": []
    },
    {
      "cell_type": "markdown",
      "metadata": {
        "id": "pQJVAVc0l2si"
      },
      "source": [
        "Step 3 : Splitting the dataset"
      ]
    },
    {
      "cell_type": "markdown",
      "metadata": {
        "id": "i74dl5Q1l-dG"
      },
      "source": [
        "Splitting the data into training and testing data"
      ]
    },
    {
      "cell_type": "code",
      "metadata": {
        "id": "nZIdoTDIl_X4"
      },
      "source": [
        "from sklearn.model_selection import train_test_split  \r\n",
        "x_train, x_test, y_train, y_test = train_test_split(x, y,test_size=0.3, random_state=0)\r\n"
      ],
      "execution_count": 6,
      "outputs": []
    },
    {
      "cell_type": "markdown",
      "metadata": {
        "id": "JA1GWJJPmPRO"
      },
      "source": [
        "Step 4 : Training the Model\r\n",
        "\r\n",
        "Importing and Initialising Linear Regression Model"
      ]
    },
    {
      "cell_type": "code",
      "metadata": {
        "id": "m7BLW4WsmR-4"
      },
      "source": [
        "from sklearn.linear_model import LinearRegression\r\n",
        "lr = LinearRegression()"
      ],
      "execution_count": 10,
      "outputs": []
    },
    {
      "cell_type": "markdown",
      "metadata": {
        "id": "BcIgqiGNmXg9"
      },
      "source": [
        "Training the model on the training data"
      ]
    },
    {
      "cell_type": "code",
      "metadata": {
        "colab": {
          "base_uri": "https://localhost:8080/"
        },
        "id": "t6ZU1EsQmjzs",
        "outputId": "2b8827d8-131d-4fe9-8b9b-5bd76d8d0889"
      },
      "source": [
        "lr.fit(x_train,y_train)\r\n",
        "print(\"Training the Model...\")"
      ],
      "execution_count": 11,
      "outputs": [
        {
          "output_type": "stream",
          "text": [
            "Training the Model...\n"
          ],
          "name": "stdout"
        }
      ]
    },
    {
      "cell_type": "code",
      "metadata": {
        "colab": {
          "base_uri": "https://localhost:8080/"
        },
        "id": "M-iw2c65m3uJ",
        "outputId": "a58069e2-89e3-485e-d09a-51673ecda23b"
      },
      "source": [
        "lr.coef_"
      ],
      "execution_count": 12,
      "outputs": [
        {
          "output_type": "execute_result",
          "data": {
            "text/plain": [
              "array([9.78856669])"
            ]
          },
          "metadata": {
            "tags": []
          },
          "execution_count": 12
        }
      ]
    },
    {
      "cell_type": "code",
      "metadata": {
        "colab": {
          "base_uri": "https://localhost:8080/"
        },
        "id": "BLN6ByPSm8zp",
        "outputId": "37136f9e-cd13-4ab2-f05a-2f551f60b504"
      },
      "source": [
        "lr.intercept_"
      ],
      "execution_count": 13,
      "outputs": [
        {
          "output_type": "execute_result",
          "data": {
            "text/plain": [
              "2.3708153823418883"
            ]
          },
          "metadata": {
            "tags": []
          },
          "execution_count": 13
        }
      ]
    },
    {
      "cell_type": "markdown",
      "metadata": {
        "id": "No7kchWEnEOC"
      },
      "source": [
        "Step 5 : Visualising coefficients and intercepts\r\n",
        "\r\n",
        "Plotting the graph with model values and actual values"
      ]
    },
    {
      "cell_type": "code",
      "metadata": {
        "colab": {
          "base_uri": "https://localhost:8080/",
          "height": 265
        },
        "id": "BCGtOM9vnGpt",
        "outputId": "e1701c83-e878-44fd-c6e1-5b3a5d602b5c"
      },
      "source": [
        "line=lr.intercept_+x*lr.coef_\r\n",
        "plt.scatter(x,y,c='r')\r\n",
        "plt.plot(x,line)\r\n",
        "plt.show()"
      ],
      "execution_count": 14,
      "outputs": [
        {
          "output_type": "display_data",
          "data": {
            "image/png": "[encoded data removed]",
            "text/plain": [
              "<Figure size 432x288 with 1 Axes>"
            ]
          },
          "metadata": {
            "tags": [],
            "needs_background": "light"
          }
        }
      ]
    },
    {
      "cell_type": "markdown",
      "metadata": {
        "id": "64ssnvjbnUC_"
      },
      "source": [
        "Step 6 : Predicting the Values"
      ]
    },
    {
      "cell_type": "code",
      "metadata": {
        "id": "HvgwtYAFnU7y"
      },
      "source": [
        "y_pred = lr.predict(x_test)"
      ],
      "execution_count": 15,
      "outputs": []
    },
    {
      "cell_type": "markdown",
      "metadata": {
        "id": "HqBQyRaFndt2"
      },
      "source": [
        "Creating a dataframe with actual and predicted values"
      ]
    },
    {
      "cell_type": "code",
      "metadata": {
        "colab": {
          "base_uri": "https://localhost:8080/",
          "height": 297
        },
        "id": "_UFRYIuPngGU",
        "outputId": "05e712fa-e05b-4ad8-e352-282e2e7d4a0e"
      },
      "source": [
        "cmp = pd.DataFrame({'Actual': y_test, 'Predicted': y_pred})  \r\n",
        "cmp"
      ],
      "execution_count": 16,
      "outputs": [
        {
          "output_type": "execute_result",
          "data": {
            "text/html": [
              "<div>\n",
              "<style scoped>\n",
              "    .dataframe tbody tr th:only-of-type {\n",
              "        vertical-align: middle;\n",
              "    }\n",
              "\n",
              "    .dataframe tbody tr th {\n",
              "        vertical-align: top;\n",
              "    }\n",
              "\n",
              "    .dataframe thead th {\n",
              "        text-align: right;\n",
              "    }\n",
              "</style>\n",
              "<table border=\"1\" class=\"dataframe\">\n",
              "  <thead>\n",
              "    <tr style=\"text-align: right;\">\n",
              "      <th></th>\n",
              "      <th>Actual</th>\n",
              "      <th>Predicted</th>\n",
              "    </tr>\n",
              "  </thead>\n",
              "  <tbody>\n",
              "    <tr>\n",
              "      <th>5</th>\n",
              "      <td>20</td>\n",
              "      <td>17.053665</td>\n",
              "    </tr>\n",
              "    <tr>\n",
              "      <th>2</th>\n",
              "      <td>27</td>\n",
              "      <td>33.694229</td>\n",
              "    </tr>\n",
              "    <tr>\n",
              "      <th>19</th>\n",
              "      <td>69</td>\n",
              "      <td>74.806209</td>\n",
              "    </tr>\n",
              "    <tr>\n",
              "      <th>16</th>\n",
              "      <td>30</td>\n",
              "      <td>26.842232</td>\n",
              "    </tr>\n",
              "    <tr>\n",
              "      <th>11</th>\n",
              "      <td>62</td>\n",
              "      <td>60.123359</td>\n",
              "    </tr>\n",
              "    <tr>\n",
              "      <th>22</th>\n",
              "      <td>35</td>\n",
              "      <td>39.567369</td>\n",
              "    </tr>\n",
              "    <tr>\n",
              "      <th>17</th>\n",
              "      <td>24</td>\n",
              "      <td>20.969092</td>\n",
              "    </tr>\n",
              "    <tr>\n",
              "      <th>24</th>\n",
              "      <td>86</td>\n",
              "      <td>78.721636</td>\n",
              "    </tr>\n",
              "  </tbody>\n",
              "</table>\n",
              "</div>"
            ],
            "text/plain": [
              "    Actual  Predicted\n",
              "5       20  17.053665\n",
              "2       27  33.694229\n",
              "19      69  74.806209\n",
              "16      30  26.842232\n",
              "11      62  60.123359\n",
              "22      35  39.567369\n",
              "17      24  20.969092\n",
              "24      86  78.721636"
            ]
          },
          "metadata": {
            "tags": []
          },
          "execution_count": 16
        }
      ]
    },
    {
      "cell_type": "markdown",
      "metadata": {
        "id": "p62U26EPnrnf"
      },
      "source": [
        "Predicting a new value - No. of hours studied = 9.25"
      ]
    },
    {
      "cell_type": "code",
      "metadata": {
        "colab": {
          "base_uri": "https://localhost:8080/"
        },
        "id": "kjboI-tGnsoV",
        "outputId": "61b894e0-ee58-497a-ff73-6ade6fabb210"
      },
      "source": [
        "hours = [[9.25]] #Converting into 2D array\r\n",
        "print('Percentage Expected : ' + str(lr.predict(hours)[0]))"
      ],
      "execution_count": 17,
      "outputs": [
        {
          "output_type": "stream",
          "text": [
            "Percentage Expected : 92.91505723477056\n"
          ],
          "name": "stdout"
        }
      ]
    },
    {
      "cell_type": "markdown",
      "metadata": {
        "id": "1rnZTytWn6Ry"
      },
      "source": [
        "Step 7 : Model Evaluation\r\n",
        "\r\n",
        "Finding error in the model"
      ]
    },
    {
      "cell_type": "code",
      "metadata": {
        "colab": {
          "base_uri": "https://localhost:8080/"
        },
        "id": "mRd4rzxDn8vD",
        "outputId": "e5d6c543-f34f-4bc4-9a7e-3fcff2704264"
      },
      "source": [
        "from sklearn import metrics \r\n",
        "print('Mean Absolute Error:'+ str(metrics.mean_absolute_error(y_test, y_pred)))"
      ],
      "execution_count": 18,
      "outputs": [
        {
          "output_type": "stream",
          "text": [
            "Mean Absolute Error:4.419727808027651\n"
          ],
          "name": "stdout"
        }
      ]
    },
    {
      "cell_type": "markdown",
      "metadata": {
        "id": "3OC9KkIOoMGC"
      },
      "source": [
        "For 9.25 hours of study percentage expected is 93 % approx. (92.92)."
      ]
    }
  ]
}